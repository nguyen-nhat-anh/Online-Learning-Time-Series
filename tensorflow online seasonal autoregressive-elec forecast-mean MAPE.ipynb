{
 "cells": [
  {
   "cell_type": "markdown",
   "metadata": {},
   "source": [
    "A simple online seasonal autoregressive model for time series prediction "
   ]
  },
  {
   "cell_type": "code",
   "execution_count": 1,
   "metadata": {},
   "outputs": [],
   "source": [
    "%matplotlib inline\n",
    "import numpy as np\n",
    "import tensorflow as tf\n",
    "from collections import deque\n",
    "from matplotlib import pyplot as plt\n",
    "import pandas as pd\n",
    "from tqdm import tqdm_notebook as tqdm"
   ]
  },
  {
   "cell_type": "markdown",
   "metadata": {},
   "source": [
    "# Constants"
   ]
  },
  {
   "cell_type": "code",
   "execution_count": 2,
   "metadata": {},
   "outputs": [],
   "source": [
    "ar_order = 3 # 3\n",
    "sar_order = 2 # 2\n",
    "period = 250 # 250\n",
    "learning_rate = 0.005 # 0.005"
   ]
  },
  {
   "cell_type": "markdown",
   "metadata": {},
   "source": [
    "# Graph"
   ]
  },
  {
   "cell_type": "code",
   "execution_count": 3,
   "metadata": {},
   "outputs": [],
   "source": [
    "# tf graph inputs\n",
    "X = tf.placeholder(tf.float32, shape=[ar_order + sar_order*period], name='history') # 1-D array\n",
    "Y = tf.placeholder(tf.float32, shape=[1], name='current') # scalar"
   ]
  },
  {
   "cell_type": "code",
   "execution_count": 4,
   "metadata": {},
   "outputs": [],
   "source": [
    "# tf graph variables\n",
    "gamma = tf.Variable(initial_value=tf.random.truncated_normal(shape=[ar_order]), \n",
    "                    name='ar_params', dtype=tf.float32, shape=[ar_order])\n",
    "s_gamma = tf.Variable(initial_value=tf.random.truncated_normal(shape=[sar_order]), \n",
    "                      name='sar_params', dtype=tf.float32, shape=[sar_order])"
   ]
  },
  {
   "cell_type": "code",
   "execution_count": 5,
   "metadata": {},
   "outputs": [],
   "source": [
    "def compute_backshift(series, ar_params, s):\n",
    "    '''\n",
    "    Compute backshift polynomial (1 - g(B)) X_t\n",
    "     params:\n",
    "    series: A tensor, shape (n,) - [X_t, X_{t-1}, ..., X_{t-(n-1)}]\n",
    "    ar_params: A tensor, shape (p,) - [g_1, g_2, ..., g_p]\n",
    "    s: seasonal period, an int or int tensor \n",
    "    \n",
    "     returns:\n",
    "    A tensor [X_t - g(B^s) X_t, X_{t-1} - g(B^s) X_{t-1}, ..., X_{t-(n-ps-1)} - g(B^s) X_{t-(n-ps-1)}], shape (n - ps,)\n",
    "    where\n",
    "    g(B^s) = g_1 * B^s + g_2 * B^(2s) + ... + g_p * B^(ps)\n",
    "    '''\n",
    "    # constraint: n > p*s\n",
    "    n = tf.reshape(tf.shape(series), [])\n",
    "    p = tf.reshape(tf.shape(ar_params), [])\n",
    "    \n",
    "    sliding_window = tf.map_fn(lambda i: series[i:i+p*s+1:s], tf.range(n-p*s), dtype=tf.float32) # shape (n-p*s, p+1)\n",
    "    backshift_polynomial = tf.expand_dims(tf.concat([[1], -ar_params], axis=0), axis=-1) # shape (p+1, 1)\n",
    "    \n",
    "    result = tf.matmul(sliding_window, backshift_polynomial) # shape (n-p*s, 1)\n",
    "    return tf.squeeze(result, axis=-1) # shape (n-p*s,)"
   ]
  },
  {
   "cell_type": "code",
   "execution_count": 6,
   "metadata": {},
   "outputs": [],
   "source": [
    "def compute_epsilon(current, history, ar_params, sar_params, s):\n",
    "    '''\n",
    "    Compute epsilon_t = (1 - gs(B^s))(1 - g(B)) X_t\n",
    "     params:\n",
    "    current: a tensor, shape (1,) - [X_t]\n",
    "    history: a tensor, shape (ar_order + sar_order*period,) - [X_{t-1}, X_{t-2}, ..., X_{t-(p+Ps)}]\n",
    "    ar_params: A tensor, shape (ar_order,) - [g_1, g_2, ..., g_p]\n",
    "    ar_params: A tensor, shape (sar_order,) - [gs_1, gs_2, ..., gs_P]\n",
    "    s: seasonal period, an int or int scalar tensor \n",
    "     returns:\n",
    "    a scalar tensor of type float\n",
    "    '''\n",
    "    concat = tf.concat([current, history], axis=0) # shape (ar_order+sar_order*period+1,)\n",
    "    backshift = compute_backshift(concat, ar_params, s=1) # shape (sar_order*period+1,)\n",
    "    epsilon = compute_backshift(backshift, sar_params, s=s) # shape (1,)\n",
    "    return epsilon[0] # return a scalar"
   ]
  },
  {
   "cell_type": "code",
   "execution_count": 7,
   "metadata": {},
   "outputs": [],
   "source": [
    "epsilon = compute_epsilon(Y, X, gamma, s_gamma, period)\n",
    "prediction = -compute_epsilon([0], X, gamma, s_gamma, period)"
   ]
  },
  {
   "cell_type": "code",
   "execution_count": 8,
   "metadata": {},
   "outputs": [],
   "source": [
    "loss = tf.square(epsilon)\n",
    "train_op = tf.train.GradientDescentOptimizer(learning_rate).minimize(loss) # best lr=0.005\n",
    "# train_op = tf.train.AdagradOptimizer(learning_rate).minimize(loss)"
   ]
  },
  {
   "cell_type": "code",
   "execution_count": 9,
   "metadata": {},
   "outputs": [],
   "source": [
    "# Initialize the variables\n",
    "init = tf.global_variables_initializer()"
   ]
  },
  {
   "cell_type": "markdown",
   "metadata": {},
   "source": [
    "# Train"
   ]
  },
  {
   "cell_type": "code",
   "execution_count": 10,
   "metadata": {},
   "outputs": [],
   "source": [
    "df = pd.read_csv('data/Dữ liệu phụ tải workingday miền Bắc năm 2015-082019.csv', \n",
    "                 usecols=list(map(str,range(1,25))), engine='python')\n",
    "MAPEs = []"
   ]
  },
  {
   "cell_type": "code",
   "execution_count": 11,
   "metadata": {},
   "outputs": [
    {
     "data": {
      "application/vnd.jupyter.widget-view+json": {
       "model_id": "ca22c3bc464342a8b588e11dfed58a4f",
       "version_major": 2,
       "version_minor": 0
      },
      "text/plain": [
       "HBox(children=(IntProgress(value=0, max=1216), HTML(value='')))"
      ]
     },
     "metadata": {},
     "output_type": "display_data"
    },
    {
     "name": "stdout",
     "output_type": "stream",
     "text": [
      "\n"
     ]
    },
    {
     "data": {
      "application/vnd.jupyter.widget-view+json": {
       "model_id": "be64d1a909cd4ee2976064b2adfdd532",
       "version_major": 2,
       "version_minor": 0
      },
      "text/plain": [
       "HBox(children=(IntProgress(value=0, max=1216), HTML(value='')))"
      ]
     },
     "metadata": {},
     "output_type": "display_data"
    },
    {
     "name": "stdout",
     "output_type": "stream",
     "text": [
      "\n"
     ]
    },
    {
     "data": {
      "application/vnd.jupyter.widget-view+json": {
       "model_id": "0f1a31c6309a4d1eb462cd3d93c35274",
       "version_major": 2,
       "version_minor": 0
      },
      "text/plain": [
       "HBox(children=(IntProgress(value=0, max=1216), HTML(value='')))"
      ]
     },
     "metadata": {},
     "output_type": "display_data"
    },
    {
     "name": "stdout",
     "output_type": "stream",
     "text": [
      "\n"
     ]
    },
    {
     "data": {
      "application/vnd.jupyter.widget-view+json": {
       "model_id": "14e508b05108479a8437c96b0719a6d4",
       "version_major": 2,
       "version_minor": 0
      },
      "text/plain": [
       "HBox(children=(IntProgress(value=0, max=1216), HTML(value='')))"
      ]
     },
     "metadata": {},
     "output_type": "display_data"
    },
    {
     "name": "stdout",
     "output_type": "stream",
     "text": [
      "\n"
     ]
    },
    {
     "data": {
      "application/vnd.jupyter.widget-view+json": {
       "model_id": "5075fc5ef0ce4086a5a2f393693866fe",
       "version_major": 2,
       "version_minor": 0
      },
      "text/plain": [
       "HBox(children=(IntProgress(value=0, max=1216), HTML(value='')))"
      ]
     },
     "metadata": {},
     "output_type": "display_data"
    },
    {
     "name": "stdout",
     "output_type": "stream",
     "text": [
      "\n"
     ]
    },
    {
     "data": {
      "application/vnd.jupyter.widget-view+json": {
       "model_id": "85febcda651f4c05a53e86f218caa7be",
       "version_major": 2,
       "version_minor": 0
      },
      "text/plain": [
       "HBox(children=(IntProgress(value=0, max=1216), HTML(value='')))"
      ]
     },
     "metadata": {},
     "output_type": "display_data"
    },
    {
     "name": "stdout",
     "output_type": "stream",
     "text": [
      "\n"
     ]
    },
    {
     "data": {
      "application/vnd.jupyter.widget-view+json": {
       "model_id": "1cd0db7433ba47d68130eaa2f5f27ac4",
       "version_major": 2,
       "version_minor": 0
      },
      "text/plain": [
       "HBox(children=(IntProgress(value=0, max=1216), HTML(value='')))"
      ]
     },
     "metadata": {},
     "output_type": "display_data"
    },
    {
     "name": "stdout",
     "output_type": "stream",
     "text": [
      "\n"
     ]
    },
    {
     "data": {
      "application/vnd.jupyter.widget-view+json": {
       "model_id": "5c48076152fb4f24b8f862926a56509a",
       "version_major": 2,
       "version_minor": 0
      },
      "text/plain": [
       "HBox(children=(IntProgress(value=0, max=1216), HTML(value='')))"
      ]
     },
     "metadata": {},
     "output_type": "display_data"
    },
    {
     "name": "stdout",
     "output_type": "stream",
     "text": [
      "\n"
     ]
    },
    {
     "data": {
      "application/vnd.jupyter.widget-view+json": {
       "model_id": "099f3e98a12e438bb689ef8673888e97",
       "version_major": 2,
       "version_minor": 0
      },
      "text/plain": [
       "HBox(children=(IntProgress(value=0, max=1216), HTML(value='')))"
      ]
     },
     "metadata": {},
     "output_type": "display_data"
    },
    {
     "name": "stdout",
     "output_type": "stream",
     "text": [
      "\n"
     ]
    },
    {
     "data": {
      "application/vnd.jupyter.widget-view+json": {
       "model_id": "2259cce09aee4fb88ecf537a7af6f237",
       "version_major": 2,
       "version_minor": 0
      },
      "text/plain": [
       "HBox(children=(IntProgress(value=0, max=1216), HTML(value='')))"
      ]
     },
     "metadata": {},
     "output_type": "display_data"
    },
    {
     "name": "stdout",
     "output_type": "stream",
     "text": [
      "\n"
     ]
    },
    {
     "data": {
      "application/vnd.jupyter.widget-view+json": {
       "model_id": "3971c77785104fac8d9fbc59923d794f",
       "version_major": 2,
       "version_minor": 0
      },
      "text/plain": [
       "HBox(children=(IntProgress(value=0, max=1216), HTML(value='')))"
      ]
     },
     "metadata": {},
     "output_type": "display_data"
    },
    {
     "name": "stdout",
     "output_type": "stream",
     "text": [
      "\n"
     ]
    },
    {
     "data": {
      "application/vnd.jupyter.widget-view+json": {
       "model_id": "82e592616ae74dfeaf516ba962e75fd7",
       "version_major": 2,
       "version_minor": 0
      },
      "text/plain": [
       "HBox(children=(IntProgress(value=0, max=1216), HTML(value='')))"
      ]
     },
     "metadata": {},
     "output_type": "display_data"
    },
    {
     "name": "stdout",
     "output_type": "stream",
     "text": [
      "\n"
     ]
    },
    {
     "data": {
      "application/vnd.jupyter.widget-view+json": {
       "model_id": "ff5e5de8e1064972a87e2a71e6641df9",
       "version_major": 2,
       "version_minor": 0
      },
      "text/plain": [
       "HBox(children=(IntProgress(value=0, max=1216), HTML(value='')))"
      ]
     },
     "metadata": {},
     "output_type": "display_data"
    },
    {
     "name": "stdout",
     "output_type": "stream",
     "text": [
      "\n"
     ]
    },
    {
     "data": {
      "application/vnd.jupyter.widget-view+json": {
       "model_id": "9eeed96218df4795a79aab8c305e7819",
       "version_major": 2,
       "version_minor": 0
      },
      "text/plain": [
       "HBox(children=(IntProgress(value=0, max=1216), HTML(value='')))"
      ]
     },
     "metadata": {},
     "output_type": "display_data"
    },
    {
     "name": "stdout",
     "output_type": "stream",
     "text": [
      "\n"
     ]
    },
    {
     "data": {
      "application/vnd.jupyter.widget-view+json": {
       "model_id": "058b23f6fe9e407b8e3cf1f9ebb4f9a4",
       "version_major": 2,
       "version_minor": 0
      },
      "text/plain": [
       "HBox(children=(IntProgress(value=0, max=1216), HTML(value='')))"
      ]
     },
     "metadata": {},
     "output_type": "display_data"
    },
    {
     "name": "stdout",
     "output_type": "stream",
     "text": [
      "\n"
     ]
    },
    {
     "data": {
      "application/vnd.jupyter.widget-view+json": {
       "model_id": "0c2cecafa483478d9279007834821ac8",
       "version_major": 2,
       "version_minor": 0
      },
      "text/plain": [
       "HBox(children=(IntProgress(value=0, max=1216), HTML(value='')))"
      ]
     },
     "metadata": {},
     "output_type": "display_data"
    },
    {
     "name": "stdout",
     "output_type": "stream",
     "text": [
      "\n"
     ]
    },
    {
     "data": {
      "application/vnd.jupyter.widget-view+json": {
       "model_id": "d9e827a7c38e4b86a53d8525a10d2773",
       "version_major": 2,
       "version_minor": 0
      },
      "text/plain": [
       "HBox(children=(IntProgress(value=0, max=1216), HTML(value='')))"
      ]
     },
     "metadata": {},
     "output_type": "display_data"
    },
    {
     "name": "stdout",
     "output_type": "stream",
     "text": [
      "\n"
     ]
    },
    {
     "data": {
      "application/vnd.jupyter.widget-view+json": {
       "model_id": "55cf30cf32ba460e8498c7f545687234",
       "version_major": 2,
       "version_minor": 0
      },
      "text/plain": [
       "HBox(children=(IntProgress(value=0, max=1216), HTML(value='')))"
      ]
     },
     "metadata": {},
     "output_type": "display_data"
    },
    {
     "name": "stdout",
     "output_type": "stream",
     "text": [
      "\n"
     ]
    },
    {
     "data": {
      "application/vnd.jupyter.widget-view+json": {
       "model_id": "e393d7290b98486dbdf7b0e4eab315a8",
       "version_major": 2,
       "version_minor": 0
      },
      "text/plain": [
       "HBox(children=(IntProgress(value=0, max=1216), HTML(value='')))"
      ]
     },
     "metadata": {},
     "output_type": "display_data"
    },
    {
     "name": "stdout",
     "output_type": "stream",
     "text": [
      "\n"
     ]
    },
    {
     "data": {
      "application/vnd.jupyter.widget-view+json": {
       "model_id": "89bdb80565754b58a81bcd28a10272a8",
       "version_major": 2,
       "version_minor": 0
      },
      "text/plain": [
       "HBox(children=(IntProgress(value=0, max=1216), HTML(value='')))"
      ]
     },
     "metadata": {},
     "output_type": "display_data"
    },
    {
     "name": "stdout",
     "output_type": "stream",
     "text": [
      "\n"
     ]
    },
    {
     "data": {
      "application/vnd.jupyter.widget-view+json": {
       "model_id": "1ba1c457621f440a80838cf303a179c6",
       "version_major": 2,
       "version_minor": 0
      },
      "text/plain": [
       "HBox(children=(IntProgress(value=0, max=1216), HTML(value='')))"
      ]
     },
     "metadata": {},
     "output_type": "display_data"
    },
    {
     "name": "stdout",
     "output_type": "stream",
     "text": [
      "\n"
     ]
    },
    {
     "data": {
      "application/vnd.jupyter.widget-view+json": {
       "model_id": "5caec4b0ec9044158696ce0746764261",
       "version_major": 2,
       "version_minor": 0
      },
      "text/plain": [
       "HBox(children=(IntProgress(value=0, max=1216), HTML(value='')))"
      ]
     },
     "metadata": {},
     "output_type": "display_data"
    },
    {
     "name": "stdout",
     "output_type": "stream",
     "text": [
      "\n"
     ]
    },
    {
     "data": {
      "application/vnd.jupyter.widget-view+json": {
       "model_id": "68f56152e0da4f4680e5ea0480ea0614",
       "version_major": 2,
       "version_minor": 0
      },
      "text/plain": [
       "HBox(children=(IntProgress(value=0, max=1216), HTML(value='')))"
      ]
     },
     "metadata": {},
     "output_type": "display_data"
    },
    {
     "name": "stdout",
     "output_type": "stream",
     "text": [
      "\n"
     ]
    },
    {
     "data": {
      "application/vnd.jupyter.widget-view+json": {
       "model_id": "a5e66669a2664b34a5631e59957d9b95",
       "version_major": 2,
       "version_minor": 0
      },
      "text/plain": [
       "HBox(children=(IntProgress(value=0, max=1216), HTML(value='')))"
      ]
     },
     "metadata": {},
     "output_type": "display_data"
    },
    {
     "name": "stdout",
     "output_type": "stream",
     "text": [
      "\n"
     ]
    }
   ],
   "source": [
    "for i in tqdm(range(1,25)):\n",
    "    hour = str(i)\n",
    "    series = df[hour]\n",
    "    series_diff = series.diff().dropna()\n",
    "    \n",
    "    # normalize data\n",
    "    mean = series_diff.mean()\n",
    "    std = series_diff.std()\n",
    "    series_diff_normalized = (series_diff - mean) / std\n",
    "    \n",
    "    history = deque([0] * (ar_order+sar_order*period), maxlen=ar_order+sar_order*period)\n",
    "    preds_diff_normalized = []\n",
    "    \n",
    "    # train\n",
    "    with tf.Session() as sess:\n",
    "        sess.run(init)\n",
    "        for x in tqdm(series_diff_normalized):\n",
    "            pred, _ = sess.run([prediction, train_op], feed_dict={'history:0': np.array(history), \n",
    "                                                                  'current:0': np.array([x])})\n",
    "            history.appendleft(x)\n",
    "            preds_diff_normalized.append(pred)\n",
    "        \n",
    "    split_point = round(len(series) * 0.8)\n",
    "\n",
    "    # forecast\n",
    "    preds_diff = np.array(preds_diff_normalized) * std + mean\n",
    "    preds = np.r_[[0], series[:-1].values + preds_diff]\n",
    "    forecast = pd.Series(preds, index=series.index)[split_point:]\n",
    "\n",
    "    testing = series[split_point:]\n",
    "\n",
    "    MAPEs.append(np.mean(np.abs((testing - forecast) / testing)))"
   ]
  },
  {
   "cell_type": "code",
   "execution_count": 12,
   "metadata": {},
   "outputs": [
    {
     "name": "stdout",
     "output_type": "stream",
     "text": [
      "[0.056209972481650376, 0.054653217181037356, 0.05230257478800533, 0.049944721676719726, 0.04669711297513028, 0.03940839541744851, 0.034317649235530316, 0.036300467800945944, 0.03967716023603523, 0.043991586050964974, 0.04733506973808972, 0.05406628322434684, 0.05789953843217802, 0.056210368017053675, 0.0496805339136774, 0.04060688471174475, 0.03280607181767226, 0.02848624732360101, 0.034056309437989346, 0.03723644638530487, 0.04368772200750985, 0.05190537902735574, 0.055389847637416584, 0.054123389911962326]\n",
      "0.0457080395595571\n"
     ]
    }
   ],
   "source": [
    "print(MAPEs)\n",
    "print(np.mean(MAPEs))"
   ]
  }
 ],
 "metadata": {
  "kernelspec": {
   "display_name": "Python 3",
   "language": "python",
   "name": "python3"
  },
  "language_info": {
   "codemirror_mode": {
    "name": "ipython",
    "version": 3
   },
   "file_extension": ".py",
   "mimetype": "text/x-python",
   "name": "python",
   "nbconvert_exporter": "python",
   "pygments_lexer": "ipython3",
   "version": "3.6.8"
  }
 },
 "nbformat": 4,
 "nbformat_minor": 2
}
